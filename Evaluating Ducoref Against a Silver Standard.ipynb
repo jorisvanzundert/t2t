{
 "cells": [
  {
   "cell_type": "markdown",
   "id": "cdee0b01",
   "metadata": {},
   "source": [
    "# Evaluating Ducoref Against a Silver Standard \n",
    "\n",
    "This is a notebook that computes agreement (F1) between a [silver standard of novels with annotated character mentions developed by Roel Smeets](https://github.com/roelsmeets/character-networks), and characters as tagged by the [Dutch coreference resolution & dialogue analysis machinery created by Andreas van Cranenburgh](https://github.com/andreasvc/dutchcoref). The input data is produced by the coreference resolution system which uses [Alpino parser](https://github.com/rug-compling/alpino-docker), the Ducoref rule based Python core, and its neural modules.\n"
   ]
  },
  {
   "cell_type": "markdown",
   "id": "a88f45a4",
   "metadata": {},
   "source": [
    "### TODOs\n",
    "\n",
    "* Evaluate against Ducoref clusters rather than individual mentions.\n",
    "* Port code to use Pandas rather than specific dictionaries and loops.\n",
    "* Scale against the fully parsed corpus. (Depends on parsing by RUG.)"
   ]
  },
  {
   "cell_type": "code",
   "execution_count": 2,
   "id": "67b0dfc3",
   "metadata": {},
   "outputs": [],
   "source": [
    "# imports\n",
    "import csv\n",
    "import regex"
   ]
  },
  {
   "cell_type": "code",
   "execution_count": 13,
   "id": "00aa5434",
   "metadata": {},
   "outputs": [
    {
     "name": "stdout",
     "output_type": "stream",
     "text": [
      "53,1,Sam,Sam,\n",
      "53,1,Sam,Samarendra,\n",
      "53,1,Sam,Samarendra Ambani,\n",
      "53,1,Sam,Hond,\n",
      "53,1,Sam,hond,\n",
      "53,2,Nina,Nina,\n",
      "53,2,Nina,Sams vriendin,\n",
      "53,3,Dave,Dave,\n",
      "53,3,Dave,Dave Luscombe,\n",
      "53,4,Hamid Shakir Mahmoud,Hamid Shakir Mahmoud,\n"
     ]
    }
   ],
   "source": [
    "# Let's inspect what the silver data looks like\n",
    "\n",
    "with open( './data_test/NAMES_ArnonGrunberg_DeMan.csv', 'r' ) as names_file:\n",
    "    for line in names_file.read().split( '\\n' )[0:10]:\n",
    "        print( line )\n"
   ]
  },
  {
   "cell_type": "code",
   "execution_count": 18,
   "id": "eb236361",
   "metadata": {},
   "outputs": [],
   "source": [
    "# Okay, now we create a dictionary of characters and mentions: \n",
    "# { id: { name: 'character name', mentions: [ mention1, mention2… ] } }.\n",
    "\n",
    "character_ids_to_mention_surfaces = {}\n",
    "all_mention_surfaces = [] # For check\n",
    "with open( './data_test/NAMES_ArnonGrunberg_DeMan.csv', 'r' ) as names_file:\n",
    "    reader = csv.reader( names_file, delimiter=',' )\n",
    "    for row in reader:\n",
    "        if( row[1] not in character_ids_to_mention_surfaces.keys() ):\n",
    "            character_ids_to_mention_surfaces[ row[1] ] = { 'name': '', 'mentions': [] }\n",
    "        character_id_to_mention_surfaces = character_ids_to_mention_surfaces[ row[1] ]\n",
    "        character_id_to_mention_surfaces[ 'name' ] = row[2]\n",
    "        character_id_to_mention_surfaces[ 'mentions' ].append( row[3] )\n",
    "        all_mention_surfaces.append( row[3] )"
   ]
  },
  {
   "cell_type": "code",
   "execution_count": 19,
   "id": "8d725dcc",
   "metadata": {},
   "outputs": [
    {
     "name": "stdout",
     "output_type": "stream",
     "text": [
      "{'name': 'Sam', 'mentions': ['Sam', 'Samarendra', 'Samarendra Ambani', 'Hond', 'hond']} \n",
      "\n",
      "['Sam', 'Samarendra', 'Samarendra Ambani', 'Hond', 'hond', 'Nina', 'Sams vriendin', 'Dave', 'Dave Luscombe', 'Hamid Shakir Mahmoud']\n"
     ]
    }
   ],
   "source": [
    "print( character_ids_to_mention_surfaces['1'], '\\n' )\n",
    "print( all_mention_surfaces[0:10] )\n"
   ]
  },
  {
   "cell_type": "code",
   "execution_count": 20,
   "id": "7f8cd345",
   "metadata": {},
   "outputs": [
    {
     "name": "stdout",
     "output_type": "stream",
     "text": [
      "[['1-1', '0', 'Voor', 'voor'], ['1-1', '1', 'zijn', 'zijn'], ['1-1', '2', 'reis', 'reis'], ['1-1', '3', 'heeft', 'hebben'], ['1-1', '4', 'Samarendra', 'Samarendra'], ['1-1', '5', 'Ambani', 'Ambani'], ['1-1', '6', 'samen', 'samen'], ['1-1', '7', 'met', 'met'], ['1-1', '8', 'zijn', 'zijn'], ['1-1', '9', 'vriendin', 'vriendin']]\n"
     ]
    }
   ],
   "source": [
    "# We now want to create a list of all positions that contain a named character.\n",
    "# Therefore first we simply want all tokens and their position.\n",
    "\n",
    "novel_tokens = []\n",
    "novel_conll_file_path = './alpino_data/parsed/20220216/ArnonGrunberg_DeMan_output.conll'\n",
    "with open ( novel_conll_file_path, 'r' ) as novel_file:\n",
    "    novel_tokens = novel_file.read().split( '\\n' )\n",
    "    novel_tokens = [ novel_token.split( '\\t' )[1:5] for novel_token in novel_tokens if len( novel_token.split( '\\t' ) ) > 4 ]\n",
    "\n",
    "print( novel_tokens[0:10] )\n"
   ]
  },
  {
   "cell_type": "code",
   "execution_count": 22,
   "id": "c72c6715",
   "metadata": {},
   "outputs": [
    {
     "name": "stdout",
     "output_type": "stream",
     "text": [
      "[(4, 4, 'Samarendra'), (4, 5, 'Samarendra Ambani'), (20, 20, 'Samarendra'), (51, 51, 'Samarendra'), (58, 58, 'Sam'), (138, 138, 'Samarendra'), (138, 139, 'Samarendra Ambani'), (213, 213, 'Sam'), (252, 252, 'Sam'), (281, 281, 'Samarendra')]\n"
     ]
    }
   ],
   "source": [
    "regex_alpha_only = regex.compile( r'[\\p{L}\\p{Nl}]+' )\n",
    "\n",
    "mention_position_silver = []\n",
    "\n",
    "for idx_start, token in enumerate( novel_tokens ):\n",
    "    for mention in all_mention_surfaces:\n",
    "        mention_parts = mention.split( ' ' )\n",
    "        match = True\n",
    "        idx_end = idx_start\n",
    "        for idx, part in enumerate( mention_parts ):\n",
    "            idx_end += idx\n",
    "            if( idx_end < len( novel_tokens ) ):\n",
    "                # if( ( idx_end < len( novel_tokens ) ) and ( novel_tokens[idx_end][2].lower() != part.lower() ) ):\n",
    "                alpha_start = regex_alpha_only.match( novel_tokens[idx_end][2].lower() )\n",
    "                if( alpha_start != None ):\n",
    "                    alpha_start = alpha_start.group(0)\n",
    "                    if( alpha_start != part.lower() ):\n",
    "                        match = False\n",
    "                else:\n",
    "                    match = False\n",
    "            else:\n",
    "                match = False\n",
    "        if( match ):\n",
    "            mention_position_silver.append( ( idx_start, idx_end, mention ) )\n",
    "\n",
    "print( mention_position_silver[0:10] )\n"
   ]
  },
  {
   "cell_type": "code",
   "execution_count": 49,
   "id": "cace4845",
   "metadata": {},
   "outputs": [
    {
     "name": "stdout",
     "output_type": "stream",
     "text": [
      "[(4, 5, 'Samarendra Ambani'), (20, 20, 'Samarendra’s'), (51, 51, 'Samarendra'), (55, 58, 'de meeste mensen Sam'), (138, 139, 'Samarendra Ambani'), (145, 145, 'Zwitserland'), (213, 213, 'Sam'), (252, 252, 'Sam'), (278, 279, 'de Amerikanen'), (281, 281, 'Samarendra’s')]\n"
     ]
    }
   ],
   "source": [
    "# To compare we need the mentions according to the Dutch Coref system…\n",
    "\n",
    "def mention_is_name( mention ):\n",
    "    ducoref_offset = 1\n",
    "    mention_parts = mention.split( '\\t' )\n",
    "    if( mention_parts[3] == 'name' ):\n",
    "        return ( int( mention_parts[1] ) - ducoref_offset, int( mention_parts[2] ) - ducoref_offset, mention_parts[12] )\n",
    "    else:\n",
    "        return None\n",
    "\n",
    "mention_position_ducoref = []\n",
    "with open ( './alpino_data/parsed/20220216/ArnonGrunberg_DeMan_output.mentions.tsv', 'r' ) as ducoref_file:\n",
    "    mention_position_ducoref = ducoref_file.read().split( '\\n' )[1:-1]\n",
    "    mention_position_ducoref = [ mention_is_name( mention ) for mention in mention_position_ducoref ]\n",
    "    mention_position_ducoref = [ mention for mention in mention_position_ducoref if mention != None ]\n",
    "\n",
    "print( mention_position_ducoref[0:10] )\n"
   ]
  },
  {
   "cell_type": "code",
   "execution_count": 50,
   "id": "5e00e93a",
   "metadata": {},
   "outputs": [
    {
     "name": "stdout",
     "output_type": "stream",
     "text": [
      "[(4, 4), (4, 5), (20, 20), (51, 51), (58, 58), (138, 138), (138, 139), (213, 213), (252, 252), (281, 281)]\n",
      "[(4, 5), (20, 20), (51, 51), (55, 58), (138, 139), (145, 145), (213, 213), (252, 252), (278, 279), (281, 281)]\n"
     ]
    }
   ],
   "source": [
    "# We now can turn both lists into a form that we can compare\n",
    "\n",
    "mention_position_silver = [ ( tup[0], tup[1] ) for tup in mention_position_silver ]\n",
    "print( mention_position_silver[0:10] )\n",
    "mention_position_ducoref = [ ( tup[0], tup[1] ) for tup in mention_position_ducoref ]\n",
    "print( mention_position_ducoref[0:10] )\n"
   ]
  },
  {
   "cell_type": "code",
   "execution_count": 51,
   "id": "d90700b5",
   "metadata": {},
   "outputs": [
    {
     "name": "stdout",
     "output_type": "stream",
     "text": [
      "True positives: 1499\n",
      "False negatives: 279\n",
      "False positives: 1081\n",
      "F1-Score: 0.6879302432308398\n"
     ]
    }
   ],
   "source": [
    "# Compute F1 score is a matter of counting…\n",
    "\n",
    "false_negatives = 0\n",
    "true_positives = 0\n",
    "character_line_refs = []\n",
    "for tup in mention_position_silver:\n",
    "    if( tup in mention_position_ducoref ):\n",
    "        true_positives += 1\n",
    "    else:\n",
    "        false_negatives += 1\n",
    "\n",
    "print( 'True positives:', true_positives )\n",
    "print( 'False negatives:', false_negatives )\n",
    "\n",
    "false_positives = 0\n",
    "for tup in mention_position_ducoref:\n",
    "    if( tup not in mention_position_silver ):\n",
    "        false_positives += 1\n",
    "\n",
    "print( 'False positives:', false_positives )\n",
    "\n",
    "fscore = true_positives / ( true_positives + ( 0.5 * ( false_positives + false_negatives ) ) )\n",
    "\n",
    "print( 'F1-Score:', fscore )\n",
    "\n"
   ]
  },
  {
   "cell_type": "code",
   "execution_count": 52,
   "id": "c5cf2377",
   "metadata": {},
   "outputs": [
    {
     "name": "stdout",
     "output_type": "stream",
     "text": [
      "[(4, 5), (20, 20), (51, 51), (55, 58), (138, 139), (213, 213), (252, 252), (281, 281), (315, 316), (372, 372)]\n",
      "True positives: 1409\n",
      "False negatives: 369\n",
      "False positives: 350\n",
      "F1-Score: 0.7967203845066441\n"
     ]
    }
   ],
   "source": [
    "# This is an unsatisfying evalution, because the Dutch Coreference Resolution solution rightfully lists\n",
    "# also e.g. \"Zwitserland\" en \"de Amerikanen\" as names. \n",
    "# Marginally better would be to use the PER tag \n",
    "# assigned by Alpino as well. But we know already that PER gives an almost 80% F1. \n",
    "# (We tested that with prior code in Python/Atom.)\n",
    "\n",
    "def mention_is_name_and_person( mention ):\n",
    "    ducoref_offset = 1\n",
    "    mention_parts = mention.split( '\\t' )\n",
    "    if( mention_parts[3] == 'name' and mention_parts[5] == 'PER' ):\n",
    "        return ( int( mention_parts[1] ) - ducoref_offset, int( mention_parts[2] ) - ducoref_offset, mention_parts[12] )\n",
    "    else:\n",
    "        return None\n",
    "\n",
    "mention_position_ducoref = []\n",
    "with open ( './alpino_data/parsed/20220216/ArnonGrunberg_DeMan_output.mentions.tsv', 'r' ) as ducoref_file:\n",
    "    mention_position_ducoref = ducoref_file.read().split( '\\n' )[1:-1]\n",
    "    mention_position_ducoref = [ mention_is_name_and_person( mention ) for mention in mention_position_ducoref ]\n",
    "    mention_position_ducoref = [ mention for mention in mention_position_ducoref if mention != None ]\n",
    "\n",
    "\n",
    "mention_position_ducoref = [ ( tup[0], tup[1] ) for tup in mention_position_ducoref ]\n",
    "print( mention_position_ducoref[0:10] )\n",
    "\n",
    "# Compute F1 score is a matter of counting…\n",
    "\n",
    "false_negatives = 0\n",
    "true_positives = 0\n",
    "character_line_refs = []\n",
    "for tup in mention_position_silver:\n",
    "    if( tup in mention_position_ducoref ):\n",
    "        true_positives += 1\n",
    "    else:\n",
    "        false_negatives += 1\n",
    "\n",
    "print( 'True positives:', true_positives )\n",
    "print( 'False negatives:', false_negatives )\n",
    "\n",
    "false_positives = 0\n",
    "for tup in mention_position_ducoref:\n",
    "    if( tup not in mention_position_silver ):\n",
    "        false_positives += 1\n",
    "\n",
    "print( 'False positives:', false_positives )\n",
    "\n",
    "fscore = true_positives / ( true_positives + ( 0.5 * ( false_positives + false_negatives ) ) )\n",
    "\n",
    "print( 'F1-Score:', fscore )\n"
   ]
  },
  {
   "cell_type": "markdown",
   "id": "fdc7b754",
   "metadata": {},
   "source": [
    "## How does Ducoref do on gender identification?"
   ]
  },
  {
   "cell_type": "code",
   "execution_count": 86,
   "id": "7a3bece8",
   "metadata": {},
   "outputs": [
    {
     "name": "stdout",
     "output_type": "stream",
     "text": [
      "[(4, 5, 'Samarendra Ambani', 'm'), (20, 20, 'Samarendra’s', 'm'), (51, 51, 'Samarendra', 'm'), (55, 58, 'de meeste mensen Sam', 'f'), (138, 139, 'Samarendra Ambani', 'm'), (213, 213, 'Sam', 'f'), (252, 252, 'Sam', 'f'), (281, 281, 'Samarendra’s', 'fm'), (315, 316, 'meneer Ambani', 'm'), (372, 372, 'Samarendra', 'm')]\n"
     ]
    }
   ],
   "source": [
    "#Let's add gender into the equation…\n",
    "\n",
    "def mention_is_name_and_person( mention ):\n",
    "    ducoref_offset = 1\n",
    "    mention_parts = mention.split( '\\t' )\n",
    "#     if( mention_parts[3] == 'name' ):\n",
    "    if( mention_parts[3] == 'name' and mention_parts[5] == 'PER' ):\n",
    "        return ( int( mention_parts[1] ) - ducoref_offset, int( mention_parts[2] ) - ducoref_offset, mention_parts[12], mention_parts[8] )\n",
    "    else:\n",
    "        return None\n",
    "\n",
    "mention_position_ducoref = []\n",
    "with open ( './alpino_data/parsed/20220216/ArnonGrunberg_DeMan_output.mentions.tsv', 'r' ) as ducoref_file:\n",
    "    mention_position_ducoref = ducoref_file.read().split( '\\n' )[1:-1]\n",
    "    mention_position_ducoref = [ mention_is_name_and_person( mention ) for mention in mention_position_ducoref ]\n",
    "    mention_position_ducoref = [ mention for mention in mention_position_ducoref if mention != None ]\n",
    "\n",
    "print( mention_position_ducoref[0:10] )"
   ]
  },
  {
   "cell_type": "code",
   "execution_count": 87,
   "id": "52fdb0f5",
   "metadata": {},
   "outputs": [
    {
     "name": "stdout",
     "output_type": "stream",
     "text": [
      "189\n"
     ]
    }
   ],
   "source": [
    "# Let's subset names and gender\n",
    "\n",
    "name_gender_ducoref = [ ( mention[2], mention[3] ) for mention in mention_position_ducoref ]\n",
    "name_gender_ducoref = set( name_gender_ducoref )\n",
    "\n",
    "print( len( name_gender_ducoref ) )"
   ]
  },
  {
   "cell_type": "code",
   "execution_count": 88,
   "id": "2f8d2559",
   "metadata": {},
   "outputs": [
    {
     "name": "stdout",
     "output_type": "stream",
     "text": [
      "('Ene Ann O’Connell', 'f')\n",
      "('Hamid Shakir Mahmoud Sam', 'fm')\n",
      "('Samarendra’s', 'm')\n",
      "('Khaled Hosseini', 'm')\n",
      "('Roger Federer', 'm')\n",
      "('De heer Böckli', 'm')\n",
      "('Hund', 'm')\n",
      "('de familie Ambani', 'm')\n",
      "('Mahmoud al-Mabhouh', 'mn')\n",
      "('een paar jonge Berbers', 'n')\n",
      "('Fehmers', 'fm')\n",
      "('Fehmers', '-')\n",
      "('Christian Dior', 'n')\n",
      "('de nacht Nina', 'f')\n",
      "('zijn Fanta', 'n')\n",
      "('Lankfords', 'fm')\n",
      "('Khalils', 'mn')\n",
      "('de andere staart Sam', 'f')\n",
      "('Fanta', 'f')\n",
      "('Ann O’Connell', 'f')\n",
      "('een blikje Fanta', 'fn')\n",
      "('meneer Mahmoud', 'm')\n",
      "('Ambani', 'fm')\n",
      "('Zwitserduits', '-')\n",
      "('Mevrouw Ambani', 'f')\n",
      "('Puccini', 'mn')\n",
      "('Angry Birds', 'n')\n",
      "('Mevrouw Ambani', 'fm')\n",
      "('Meneer Samarendra', 'm')\n",
      "('Hamid', 'm')\n",
      "('Samarendra Ambani', 'mn')\n",
      "('Samarendra', 'n')\n",
      "('Hond', 'n')\n",
      "('Angry Birds', 'm')\n",
      "('Rose', 'f')\n",
      "('ursina geisendorf', 'fm')\n",
      "('Frank Lloyd Wright', 'm')\n",
      "('een aardige voorraad Fanta', 'n')\n",
      "('Fahrenheit', 'n')\n",
      "('John', 'm')\n",
      "('de heer Böckli', 'm')\n",
      "('Sam', 'm')\n",
      "('die Fehmer', 'm')\n",
      "('Fehmer', 'm')\n",
      "('uitsluitend Texas Hold', 'm')\n",
      "('een andere Hamid Shakir Mahmoud', 'm')\n",
      "('Ursina Geisendorf', 'm')\n",
      "('de meeste mensen Sam', 'f')\n",
      "('Da bin ich überfragt', 'm')\n",
      "('Heavy', 'n')\n",
      "('Dahi Khalfan Tamim', 'm')\n",
      "('de heer Brady', 'm')\n",
      "('Khalil', 'mn')\n",
      "('Gropius', 'm')\n",
      "('Koning Faisal II', 'm')\n",
      "('Slakje', '-')\n",
      "('Liliane', 'f')\n",
      "('een geschminkte Heavy', 'n')\n",
      "('Nina’s', 'f')\n",
      "('Sam onderzoekend', 'f')\n",
      "('Puccini’s', 'fm')\n",
      "('mijn allerliefste Samarendra', 'm')\n",
      "('jouw Nina', 'f')\n",
      "('Puccini’s', '-')\n",
      "('Ambani', 'm')\n",
      "('meneer Hamid', 'm')\n",
      "('Mahmoud alMabhouh', 'm')\n",
      "('Hahnemann', 'm')\n",
      "('Frank Gehry', 'm')\n",
      "('Küsnacht', '-')\n",
      "('Dave sekt', 'm')\n",
      "('risk assessment', 'n')\n",
      "('Mahmoud', 'm')\n",
      "('Fehmer zelf', 'm')\n",
      "('Nina voor Kerstmis', 'fn')\n",
      "('Bill', 'n')\n",
      "('mevrouw Ambani', 'f')\n",
      "('Mozart', 'm')\n",
      "('Heavy’s', 'n')\n",
      "('Het gezin Ambani', 'm')\n",
      "('Bustan Rostana', 'm')\n",
      "('Van Wagner', 'fm')\n",
      "('een Toyota Camry', 'n')\n",
      "('Beste John', 'm')\n",
      "('Van Frank Gehry', 'm')\n",
      "('Puccini in Bagdad', 'm')\n",
      "('Strozzi’s', 'fm')\n",
      "('Puccini', 'fm')\n",
      "('het gezin Ambani', 'fm')\n",
      "('Hassan', 'm')\n",
      "('Sheraton', 'n')\n",
      "('Sam in zijn nieuwe onderbroek', 'f')\n",
      "('Mevrouw Geisendorf', 'f')\n",
      "('Hi Samarendra', 'n')\n",
      "('Max Fehmer', 'm')\n",
      "('Böckli', '-')\n",
      "('Olie', 'm')\n",
      "('Fehmer & Geverelli', 'fm')\n",
      "('Meneer Mahmoud', 'm')\n",
      "('Mahmoud al-Mabhouh', 'm')\n",
      "('Küsnacht', 'm')\n",
      "('Heet Hassan', 'm')\n",
      "('die Mahmoud', 'm')\n",
      "('Bowie', 'm')\n",
      "('meneer Ambani', 'm')\n",
      "('Lankford', 'm')\n",
      "('de directeur Rose', 'f')\n",
      "('Hamid Shakir Mahmoud', 'm')\n",
      "('meneer Khalil', 'm')\n",
      "('Fanta', 'n')\n",
      "('Bel Rose van de Dubai Engineering Authority', 'f')\n",
      "('John Brady’s', 'm')\n",
      "('Geverelli', 'm')\n",
      "('Dave', 'm')\n",
      "('de naam Fehmer', 'fm')\n",
      "('Puccini', 'm')\n",
      "('Khaled Hosseini’s', 'm')\n",
      "('Brady', 'm')\n",
      "('het zoontje van Dave , Matthew', 'm')\n",
      "('Samarendra Ambani', 'm')\n",
      "('Dan Lankford', 'm')\n",
      "('Nina', 'f')\n",
      "('een beetje Hindi', 'n')\n",
      "('Daves', 'm')\n",
      "('de naam Mahmoud al-Mabhouh', 'm')\n",
      "('Böckli', 'm')\n",
      "('de naam Puccini', 'f')\n",
      "('Stayin Alive in het Regal Plaza Hotel', 'm')\n",
      "('Destructie', '-')\n",
      "('Dave Luscombe', 'm')\n",
      "('luitenant-generaal Dahi Khalfan Tamim', 'm')\n",
      "('Khalil', 'm')\n",
      "('Mevrouw Geisendorf', 'fm')\n",
      "('mevrouw Geisendorf', 'f')\n",
      "('Saddam', 'm')\n",
      "('Hamid Shakir Mahmouds', 'm')\n",
      "('Sam Hamid', 'm')\n",
      "('Max Fehmer', 'mn')\n",
      "('Sam', 'f')\n",
      "('Ambani’s', 'm')\n",
      "('John Brady', 'm')\n",
      "('Die Weltwoche', 'm')\n",
      "('Fehmer', 'f')\n",
      "('de beroemde architect Fehmer', 'fm')\n",
      "('Sharjah', 'n')\n",
      "('De wereldberoemde architect Max Fehmer', 'fm')\n",
      "('Ursina Geisendorf', 'f')\n",
      "('Fehmer', 'fm')\n",
      "('mister Khalil', 'mn')\n",
      "('Fehmer', '-')\n",
      "('Sam', 'fn')\n",
      "('Sams', 'f')\n",
      "('Meneer Khalil', 'm')\n",
      "('Hosseini', 'm')\n",
      "('Kunst', 'm')\n",
      "('Olten', 'm')\n",
      "('de heer Khalil', '-')\n",
      "('de heer Böckli', 'fm')\n",
      "('Sam halverwege een verhaal van de surfer over een gebroken sleutelbeen', 'f')\n",
      "('Samarendra’s', 'fm')\n",
      "('Nina bij het meer van Lugano , op een warme dag in de herfst', 'f')\n",
      "('Urdu', 'n')\n",
      "('Sam Nina', 'f')\n",
      "('Dubai Redt Het Boek', 'n')\n",
      "('Martina', 'f')\n",
      "('dezelfde Rose', 'f')\n",
      "('Carmen', 'f')\n",
      "('Jockeys Bar', 'n')\n",
      "('penne all’arrabbiata', 'm')\n",
      "('de computer Angry Birds', 'm')\n",
      "('Engels', 'n')\n",
      "('Van Rose', 'f')\n",
      "('Steen', 'm')\n",
      "('Meneer Hamid', 'm')\n",
      "('Giovanni', 'm')\n",
      "('Nina', 'fn')\n",
      "('Samarendra', 'm')\n",
      "('Meneer Ambani', 'm')\n",
      "('de beroemde architect Fehmer', 'm')\n",
      "('een andere Rose', 'f')\n",
      "('mijn compagnon Dave', 'm')\n",
      "('Risk assessment', 'n')\n",
      "('Bill', '-')\n",
      "('Die Hamid Shakir Ahmed', 'm')\n",
      "('de heer Khalil', 'm')\n",
      "('een slok Fanta', 'n')\n",
      "('zijn Toyota Camry', 'n')\n",
      "('Paul Smith', 'm')\n",
      "('Heavy', 'm')\n"
     ]
    }
   ],
   "source": [
    "for name in name_gender_ducoref:\n",
    "    print( name )"
   ]
  },
  {
   "cell_type": "code",
   "execution_count": 89,
   "id": "723f6a8f",
   "metadata": {},
   "outputs": [
    {
     "name": "stdout",
     "output_type": "stream",
     "text": [
      "53;1;Sam;1;3;99;3;6;2;1;architect\n",
      "53;2;Nina;2;3;99;3;6;2;1;student\n",
      "53;3;Dave;1;4;99;3;6;2;1;architect\n",
      "53;4;Hamid Shakir Mahmoud;1;5;99;3;6;4;1;directeur\n",
      "53;5;Aida;2;3;99;3;6;2;2;werkloos\n",
      "53;6;meneer Ambani;1;6;99;3;6;4;1;uitvinder\n",
      "53;7;mevrouw Ambani;2;3;7;3;6;99;2;apothekersassistent\n",
      "53;8;Bill;1;99;99;5;99;99;99;chauffeur\n",
      "53;9;Hassan;1;99;99;5;99;99;99;beveiliger\n",
      "53;10;Fehmer;1;99;99;99;99;99;1;architect\n",
      "\n",
      "[('Sam', 'm'), ('Nina', 'f'), ('Dave', 'm'), ('Hamid Shakir Mahmoud', 'm'), ('Aida', 'f'), ('meneer Ambani', 'm'), ('mevrouw Ambani', 'f'), ('Bill', 'm'), ('Hassan', 'm'), ('Fehmer', 'm'), ('Heavy', 'm'), ('Honey', 'm'), ('Böckli', 'm'), ('Martina', 'f'), ('Liliane', 'f'), ('Lankford', 'm'), ('Brady', 'm'), ('Rose', 'f'), ('Mahmoud al-Mabhouh', 'm'), ('Khalil', 'm'), ('Ursina', 'f')]\n"
     ]
    }
   ],
   "source": [
    "# We need at least the same information according to the silve standard, so…\n",
    "\n",
    "name_gender_silver = []\n",
    "with open( './data_test/NODES_ArnonGrunberg_DeMan.csv', 'r' ) as names_file:\n",
    "    rows = names_file.read().split( '\\n' )[:-1]\n",
    "    for row in rows[0:10]:\n",
    "        print( row )\n",
    "    rows = [ row.split(';') for row in rows ]\n",
    "    name_gender_silver = [ ( row[2], row[3] ) for row in rows ]\n",
    "\n",
    "number_gender_map = { '1': 'm', '2': 'f' }\n",
    "    \n",
    "name_gender_silver = [ ( row[0], number_gender_map[ row[1] ] ) for row in name_gender_silver ]\n",
    "print( '' )\n",
    "print( name_gender_silver )"
   ]
  },
  {
   "cell_type": "code",
   "execution_count": 90,
   "id": "7959be2a",
   "metadata": {},
   "outputs": [
    {
     "name": "stdout",
     "output_type": "stream",
     "text": [
      "('Sam', 'm') True\n",
      "('Nina', 'f') True\n",
      "('Dave', 'm') True\n",
      "('Hamid Shakir Mahmoud', 'm') True\n",
      "('Aida', 'f') False\n",
      "('meneer Ambani', 'm') True\n",
      "('mevrouw Ambani', 'f') True\n",
      "('Bill', 'm') False\n",
      "('Hassan', 'm') True\n",
      "('Fehmer', 'm') True\n",
      "('Heavy', 'm') True\n",
      "('Honey', 'm') False\n",
      "('Böckli', 'm') True\n",
      "('Martina', 'f') True\n",
      "('Liliane', 'f') True\n",
      "('Lankford', 'm') True\n",
      "('Brady', 'm') True\n",
      "('Rose', 'f') True\n",
      "('Mahmoud al-Mabhouh', 'm') True\n",
      "('Khalil', 'm') True\n",
      "('Ursina', 'f') False\n"
     ]
    }
   ],
   "source": [
    "# Let's just see how many genders Ducoref estimated right\n",
    "# without further heuristics\n",
    "\n",
    "for name_gender in name_gender_silver:\n",
    "    print( name_gender, name_gender in name_gender_ducoref )"
   ]
  },
  {
   "cell_type": "code",
   "execution_count": 91,
   "id": "464b3369",
   "metadata": {},
   "outputs": [
    {
     "name": "stdout",
     "output_type": "stream",
     "text": [
      "F1-Score: 0.8947368421052632\n"
     ]
    }
   ],
   "source": [
    "# Let's do an F1 again\n",
    "\n",
    "false_negatives = 0\n",
    "true_positives = 0\n",
    "\n",
    "for tup in name_gender_silver:\n",
    "    if( tup in name_gender_ducoref ):\n",
    "        true_positives += 1\n",
    "    else:\n",
    "        false_negatives += 1\n",
    "\n",
    "# We don't compute false positives, but we just set is 0\n",
    "# because the Ducoref has much more characters that might very well be\n",
    "# correctly identified, but are not in the silver list.\n",
    "#\n",
    "# That is: we still need a good way of identifying MAIN characters from the Ducoref data.\n",
    "\n",
    "false_positives = 0\n",
    "\n",
    "fscore = true_positives / ( true_positives + ( 0.5 * ( false_positives + false_negatives ) ) )\n",
    "\n",
    "print( 'F1-Score:', fscore )\n"
   ]
  },
  {
   "cell_type": "markdown",
   "id": "501b3fbb",
   "metadata": {},
   "source": [
    "**F1 of 90%, nice!** But actually the score might even be better: \n",
    "\n",
    "* Does `('Bill' 'm')` in silver equal `('Bill', '-')` and/or `('Bill','n')` ?\n",
    "\n",
    "Otherwise:\n",
    "\n",
    "* Aida is not identified by Ducoref at all\n",
    "* Ursina item\n",
    "* Honey item\n",
    "\n",
    "If we ignore the PER tag selection / filter, we get an F1 of 0.9230."
   ]
  },
  {
   "cell_type": "markdown",
   "id": "8272b1df",
   "metadata": {},
   "source": [
    "## Can we decide who's a main character from mentions alone?"
   ]
  },
  {
   "cell_type": "code",
   "execution_count": 97,
   "id": "34afe944",
   "metadata": {},
   "outputs": [
    {
     "name": "stdout",
     "output_type": "stream",
     "text": [
      "[('Samarendra Ambani', 'm'), ('Samarendra’s', 'm'), ('Samarendra', 'm'), ('de meeste mensen Sam', 'f'), ('Samarendra Ambani', 'm'), ('Sam', 'f'), ('Sam', 'f'), ('Samarendra’s', 'fm'), ('meneer Ambani', 'm'), ('Samarendra', 'm')] \n",
      "\n",
      "1744\n",
      "189\n"
     ]
    }
   ],
   "source": [
    "# Let's subset names and gender\n",
    "\n",
    "name_gender_ducoref = [ ( mention[2], mention[3] ) for mention in mention_position_ducoref ]\n",
    "name_gender_ducoref_unique = set( name_gender_ducoref )\n",
    "\n",
    "print( name_gender_ducoref[0:10], '\\n')\n",
    "\n",
    "print( len( name_gender_ducoref ) )\n",
    "print( len( name_gender_ducoref_unique ) )\n",
    " "
   ]
  },
  {
   "cell_type": "code",
   "execution_count": 115,
   "id": "65adde97",
   "metadata": {},
   "outputs": [
    {
     "name": "stdout",
     "output_type": "stream",
     "text": [
      "('Sam', 'f') 781\n",
      "('Nina', 'f') 134\n",
      "('Hassan', 'm') 76\n",
      "('Dave', 'm') 61\n",
      "('Hamid Shakir Mahmoud', 'm') 59\n",
      "('Sams', 'f') 43\n",
      "('Fehmer', 'fm') 35\n",
      "('Rose', 'f') 31\n",
      "('Heavy', 'n') 29\n",
      "('Brady', 'm') 23\n",
      "('Samarendra Ambani', 'm') 22\n",
      "('Samarendra', 'm') 21\n",
      "('Fehmer', 'm') 20\n",
      "('Puccini', 'm') 19\n",
      "('Bill', 'n') 17\n",
      "('John Brady', 'm') 17\n",
      "('Martina', 'f') 14\n",
      "('Khalil', 'm') 14\n",
      "('Lankford', 'm') 13\n",
      "('Mahmoud al-Mabhouh', 'm') 13\n",
      "('Max Fehmer', 'm') 11\n",
      "('Liliane', 'f') 10\n",
      "('Nina’s', 'f') 9\n",
      "('mevrouw Geisendorf', 'f') 9\n",
      "('Mahmoud', 'm') 6\n",
      "('Hamid', 'm') 6\n",
      "('Meneer Mahmoud', 'm') 6\n",
      "('meneer Mahmoud', 'm') 6\n",
      "('meneer Hamid', 'm') 6\n",
      "('Hahnemann', 'm') 6\n",
      "('Samarendra’s', 'fm') 5\n",
      "('meneer Ambani', 'm') 4\n",
      "('mevrouw Ambani', 'f') 4\n",
      "('Frank Lloyd Wright', 'm') 4\n",
      "('Ann O’Connell', 'f') 4\n",
      "('Meneer Hamid', 'm') 4\n",
      "('Fehmer', '-') 4\n",
      "('Giovanni', 'm') 4\n",
      "('Angry Birds', 'n') 4\n",
      "('Fehmer & Geverelli', 'fm') 4\n",
      "('Meneer Ambani', 'm') 3\n",
      "('Fehmers', 'fm') 3\n",
      "('Saddam', 'm') 3\n",
      "('Mozart', 'm') 3\n",
      "('Puccini', 'mn') 3\n",
      "('Fanta', 'f') 3\n",
      "('Böckli', 'm') 3\n",
      "('de heer Böckli', 'fm') 3\n",
      "('de heer Böckli', 'm') 3\n",
      "('Sharjah', 'n') 3\n",
      "('Mevrouw Geisendorf', 'f') 3\n",
      "('Mevrouw Ambani', 'f') 2\n",
      "('Fehmers', '-') 2\n",
      "('Dave Luscombe', 'm') 2\n",
      "('Khaled Hosseini', 'm') 2\n",
      "('Bill', '-') 2\n",
      "('Sheraton', 'n') 2\n",
      "('jouw Nina', 'f') 2\n",
      "('Olie', 'm') 2\n",
      "('Küsnacht', 'm') 2\n",
      "('De heer Böckli', 'm') 2\n",
      "('Beste John', 'm') 2\n",
      "('Dan Lankford', 'm') 2\n",
      "('Da bin ich überfragt', 'm') 2\n",
      "('Bowie', 'm') 2\n",
      "('Ursina Geisendorf', 'm') 2\n",
      "('Samarendra’s', 'm') 1\n",
      "('de meeste mensen Sam', 'f') 1\n",
      "('Het gezin Ambani', 'm') 1\n",
      "('Ambani', 'fm') 1\n",
      "('Ambani’s', 'm') 1\n",
      "('Nina', 'fn') 1\n",
      "('het gezin Ambani', 'fm') 1\n",
      "('Olten', 'm') 1\n",
      "('Mevrouw Ambani', 'fm') 1\n",
      "('Küsnacht', '-') 1\n",
      "('de familie Ambani', 'm') 1\n",
      "('Samarendra', 'n') 1\n",
      "('Carmen', 'f') 1\n",
      "('Kunst', 'm') 1\n",
      "('Geverelli', 'm') 1\n",
      "('De wereldberoemde architect Max Fehmer', 'fm') 1\n",
      "('Puccini', 'fm') 1\n",
      "('Van Wagner', 'fm') 1\n",
      "('Puccini’s', '-') 1\n",
      "('Sam Hamid', 'm') 1\n",
      "('Hamid Shakir Mahmoud Sam', 'fm') 1\n",
      "('penne all’arrabbiata', 'm') 1\n",
      "('Puccini in Bagdad', 'm') 1\n",
      "('Koning Faisal II', 'm') 1\n",
      "('Ene Ann O’Connell', 'f') 1\n",
      "('Nina voor Kerstmis', 'fn') 1\n",
      "('Sam onderzoekend', 'f') 1\n",
      "('Puccini’s', 'fm') 1\n",
      "('Heavy', 'm') 1\n",
      "('Heet Hassan', 'm') 1\n",
      "('Khaled Hosseini’s', 'm') 1\n",
      "('mijn allerliefste Samarendra', 'm') 1\n",
      "('Fanta', 'n') 1\n",
      "('Paul Smith', 'm') 1\n",
      "('Heavy’s', 'n') 1\n",
      "('Ambani', 'm') 1\n",
      "('Sam in zijn nieuwe onderbroek', 'f') 1\n",
      "('een blikje Fanta', 'fn') 1\n",
      "('zijn Fanta', 'n') 1\n",
      "('een slok Fanta', 'n') 1\n",
      "('Destructie', '-') 1\n",
      "('Meneer Samarendra', 'm') 1\n",
      "('een andere Hamid Shakir Mahmoud', 'm') 1\n",
      "('de naam Puccini', 'f') 1\n",
      "('Hamid Shakir Mahmouds', 'm') 1\n",
      "('Gropius', 'm') 1\n",
      "('een aardige voorraad Fanta', 'n') 1\n",
      "('Hosseini', 'm') 1\n",
      "('Nina bij het meer van Lugano , op een warme dag in de herfst', 'f') 1\n",
      "('Hond', 'n') 1\n",
      "('Zwitserduits', '-') 1\n",
      "('Christian Dior', 'n') 1\n",
      "('Fahrenheit', 'n') 1\n",
      "('de beroemde architect Fehmer', 'm') 1\n",
      "('Die Weltwoche', 'm') 1\n",
      "('Die Hamid Shakir Ahmed', 'm') 1\n",
      "('Böckli', '-') 1\n",
      "('Angry Birds', 'm') 1\n",
      "('Hund', 'm') 1\n",
      "('een geschminkte Heavy', 'n') 1\n",
      "('Slakje', '-') 1\n",
      "('Dubai Redt Het Boek', 'n') 1\n",
      "('Sam', 'fn') 1\n",
      "('Dave sekt', 'm') 1\n",
      "('Sam Nina', 'f') 1\n",
      "('Sam halverwege een verhaal van de surfer over een gebroken sleutelbeen', 'f') 1\n",
      "('John Brady’s', 'm') 1\n",
      "('de computer Angry Birds', 'm') 1\n",
      "('Max Fehmer', 'mn') 1\n",
      "('Engels', 'n') 1\n",
      "('Urdu', 'n') 1\n",
      "('een beetje Hindi', 'n') 1\n",
      "('die Fehmer', 'm') 1\n",
      "('Lankfords', 'fm') 1\n",
      "('Daves', 'm') 1\n",
      "('Hi Samarendra', 'n') 1\n",
      "('John', 'm') 1\n",
      "('risk assessment', 'n') 1\n",
      "('Risk assessment', 'n') 1\n",
      "('Steen', 'm') 1\n",
      "('Fehmer zelf', 'm') 1\n",
      "('de directeur Rose', 'f') 1\n",
      "('een paar jonge Berbers', 'n') 1\n",
      "('Frank Gehry', 'm') 1\n",
      "('Fehmer', 'f') 1\n",
      "('het zoontje van Dave , Matthew', 'm') 1\n",
      "('een andere Rose', 'f') 1\n",
      "('dezelfde Rose', 'f') 1\n",
      "('Van Frank Gehry', 'm') 1\n",
      "('een Toyota Camry', 'n') 1\n",
      "('Sam', 'm') 1\n",
      "('Stayin Alive in het Regal Plaza Hotel', 'm') 1\n",
      "('Jockeys Bar', 'n') 1\n",
      "('de andere staart Sam', 'f') 1\n",
      "('uitsluitend Texas Hold', 'm') 1\n",
      "('zijn Toyota Camry', 'n') 1\n",
      "('Roger Federer', 'm') 1\n",
      "('de nacht Nina', 'f') 1\n",
      "('de naam Fehmer', 'fm') 1\n",
      "('de naam Mahmoud al-Mabhouh', 'm') 1\n",
      "('die Mahmoud', 'm') 1\n",
      "('Bustan Rostana', 'm') 1\n",
      "('Mahmoud alMabhouh', 'm') 1\n",
      "('Strozzi’s', 'fm') 1\n",
      "('Bel Rose van de Dubai Engineering Authority', 'f') 1\n",
      "('Mahmoud al-Mabhouh', 'mn') 1\n",
      "('mijn compagnon Dave', 'm') 1\n",
      "('ursina geisendorf', 'fm') 1\n",
      "('Ursina Geisendorf', 'f') 1\n",
      "('Mevrouw Geisendorf', 'fm') 1\n",
      "('luitenant-generaal Dahi Khalfan Tamim', 'm') 1\n",
      "('Dahi Khalfan Tamim', 'm') 1\n",
      "('Samarendra Ambani', 'mn') 1\n",
      "('de beroemde architect Fehmer', 'fm') 1\n",
      "('meneer Khalil', 'm') 1\n",
      "('mister Khalil', 'mn') 1\n",
      "('de heer Khalil', '-') 1\n",
      "('Van Rose', 'f') 1\n",
      "('Khalil', 'mn') 1\n",
      "('de heer Khalil', 'm') 1\n",
      "('de heer Brady', 'm') 1\n",
      "('Khalils', 'mn') 1\n",
      "('Meneer Khalil', 'm') 1\n"
     ]
    }
   ],
   "source": [
    "character_count_ducoref = {}\n",
    "for name_gender in name_gender_ducoref:\n",
    "    if name_gender in character_count_ducoref.keys():\n",
    "        character_count_ducoref[ name_gender ] += 1\n",
    "    else:\n",
    "        character_count_ducoref[ name_gender ] = 1\n",
    "\n",
    "# Sort by number of mentions\n",
    "character_count_ducoref = { k: v for k, v in sorted( character_count_ducoref.items(), key=lambda item: item[1], reverse=True ) }\n",
    "for k,v in character_count_ducoref.items(): \n",
    "    print( k, v )"
   ]
  },
  {
   "cell_type": "markdown",
   "id": "a6134ca8",
   "metadata": {},
   "source": [
    "**That seems a** definite yes. But again we see, as with the evaluation against the silver standard, that we are mostly bothered by 'character synonyms'. We should see if the clustering by Ducoref is a solution to this."
   ]
  },
  {
   "cell_type": "markdown",
   "id": "de509961",
   "metadata": {},
   "source": [
    "### Intermezzo: what gender labels are used?"
   ]
  },
  {
   "cell_type": "code",
   "execution_count": 116,
   "id": "8ccae621",
   "metadata": {},
   "outputs": [
    {
     "name": "stdout",
     "output_type": "stream",
     "text": [
      "1744\n",
      "{'fm', 'fn', 'm', 'mn', 'n', '-', 'f'}\n"
     ]
    }
   ],
   "source": [
    "print( len( mention_position_ducoref ) )\n",
    "genders = set( [ mention[3] for mention in mention_position_ducoref ] )\n",
    "print( genders )\n"
   ]
  },
  {
   "cell_type": "markdown",
   "id": "313f81a2",
   "metadata": {},
   "source": [
    "## Evaluation against Ducoref clusters rather than individual mentions\n"
   ]
  },
  {
   "cell_type": "code",
   "execution_count": null,
   "id": "76641aa1",
   "metadata": {},
   "outputs": [],
   "source": [
    "## (TODO)"
   ]
  }
 ],
 "metadata": {
  "kernelspec": {
   "display_name": "t2t",
   "language": "python",
   "name": "t2t"
  },
  "language_info": {
   "codemirror_mode": {
    "name": "ipython",
    "version": 3
   },
   "file_extension": ".py",
   "mimetype": "text/x-python",
   "name": "python",
   "nbconvert_exporter": "python",
   "pygments_lexer": "ipython3",
   "version": "3.9.10"
  }
 },
 "nbformat": 4,
 "nbformat_minor": 5
}
